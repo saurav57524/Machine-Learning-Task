{
 "cells": [
  {
   "cell_type": "code",
   "execution_count": 96,
   "id": "e05de27a",
   "metadata": {},
   "outputs": [],
   "source": [
    "import pandas as pd\n",
    "import numpy as np\n",
    "import matplotlib.pyplot as plt\n",
    "from sklearn.linear_model import LogisticRegression\n",
    "from sklearn.impute import SimpleImputer\n",
    "from sklearn.preprocessing import MinMaxScaler, StandardScaler\n",
    "from sklearn.pipeline import Pipeline\n",
    "from sklearn.metrics import accuracy_score, roc_auc_score, recall_score, f1_score, confusion_matrix\n",
    "from sklearn.model_selection import GridSearchCV\n",
    "from sklearn.decomposition import PCA\n",
    "from sklearn.ensemble import RandomForestClassifier\n",
    "from xgboost import XGBClassifier\n",
    "from sklearn.svm import SVC\n",
    "import joblib\n",
    "import os"
   ]
  },
  {
   "cell_type": "code",
   "execution_count": 97,
   "id": "9051d74f",
   "metadata": {},
   "outputs": [],
   "source": [
    "output_dir = 'Results'\n",
    "os.makedirs(output_dir, exist_ok=True)"
   ]
  },
  {
   "cell_type": "code",
   "execution_count": 3,
   "id": "a4c97f3b",
   "metadata": {},
   "outputs": [],
   "source": [
    "# Load the datasets\n",
    "train_df = pd.read_csv(\"Task_2/train_set.csv\", index_col='ID')\n",
    "test_df = pd.read_csv(\"Task_2/test_set.csv\", index_col='ID')\n",
    "blind_df = pd.read_csv(\"Task_2/blinded_test_set.csv\", index_col='ID')"
   ]
  },
  {
   "cell_type": "code",
   "execution_count": 4,
   "id": "9c8b5ab8",
   "metadata": {},
   "outputs": [],
   "source": [
    "# Checking each dataset\n",
    "def check_missing(df, name):\n",
    "    missing = df.isnull().sum()\n",
    "    missing = missing[missing > 0]\n",
    "    if not missing.empty:\n",
    "        print(f\"\\nMissing values in {name}:\")\n",
    "        print(missing.sort_values(ascending=False))\n",
    "    else:\n",
    "        print(f\"\\n✅ No missing values in {name}\")\n"
   ]
  },
  {
   "cell_type": "code",
   "execution_count": 5,
   "id": "50914526",
   "metadata": {},
   "outputs": [
    {
     "name": "stdout",
     "output_type": "stream",
     "text": [
      "\n",
      "Missing values in train.csv:\n",
      "Feature_1712    116\n",
      "Feature_1724    116\n",
      "Feature_1733    116\n",
      "Feature_1732    116\n",
      "Feature_1731    116\n",
      "Feature_1730    116\n",
      "Feature_1729    116\n",
      "Feature_1728    116\n",
      "Feature_1727    116\n",
      "Feature_1726    116\n",
      "Feature_1725    116\n",
      "Feature_1723    116\n",
      "Feature_1713    116\n",
      "Feature_1722    116\n",
      "Feature_1721    116\n",
      "Feature_1720    116\n",
      "Feature_1719    116\n",
      "Feature_1718    116\n",
      "Feature_1717    116\n",
      "Feature_1716    116\n",
      "Feature_1715    116\n",
      "Feature_1714    116\n",
      "Feature_1734    116\n",
      "dtype: int64\n"
     ]
    }
   ],
   "source": [
    "check_missing(train_df, \"train.csv\")"
   ]
  },
  {
   "cell_type": "code",
   "execution_count": 6,
   "id": "bb9914b8",
   "metadata": {},
   "outputs": [
    {
     "name": "stdout",
     "output_type": "stream",
     "text": [
      "\n",
      "Missing values in test.csv:\n",
      "Feature_1712    49\n",
      "Feature_1724    49\n",
      "Feature_1733    49\n",
      "Feature_1732    49\n",
      "Feature_1731    49\n",
      "Feature_1730    49\n",
      "Feature_1729    49\n",
      "Feature_1728    49\n",
      "Feature_1727    49\n",
      "Feature_1726    49\n",
      "Feature_1725    49\n",
      "Feature_1723    49\n",
      "Feature_1713    49\n",
      "Feature_1722    49\n",
      "Feature_1721    49\n",
      "Feature_1720    49\n",
      "Feature_1719    49\n",
      "Feature_1718    49\n",
      "Feature_1717    49\n",
      "Feature_1716    49\n",
      "Feature_1715    49\n",
      "Feature_1714    49\n",
      "Feature_1734    49\n",
      "dtype: int64\n"
     ]
    }
   ],
   "source": [
    "check_missing(test_df, \"test.csv\")"
   ]
  },
  {
   "cell_type": "code",
   "execution_count": 7,
   "id": "b5e559f6",
   "metadata": {},
   "outputs": [
    {
     "name": "stdout",
     "output_type": "stream",
     "text": [
      "\n",
      "Missing values in blinded_test.csv:\n",
      "Feature_1712    12\n",
      "Feature_1724    12\n",
      "Feature_1733    12\n",
      "Feature_1732    12\n",
      "Feature_1731    12\n",
      "Feature_1730    12\n",
      "Feature_1729    12\n",
      "Feature_1728    12\n",
      "Feature_1727    12\n",
      "Feature_1726    12\n",
      "Feature_1725    12\n",
      "Feature_1723    12\n",
      "Feature_1713    12\n",
      "Feature_1722    12\n",
      "Feature_1721    12\n",
      "Feature_1720    12\n",
      "Feature_1719    12\n",
      "Feature_1718    12\n",
      "Feature_1717    12\n",
      "Feature_1716    12\n",
      "Feature_1715    12\n",
      "Feature_1714    12\n",
      "Feature_1734    12\n",
      "dtype: int64\n"
     ]
    }
   ],
   "source": [
    "check_missing(blind_df, \"blinded_test.csv\")"
   ]
  },
  {
   "cell_type": "code",
   "execution_count": 77,
   "id": "3191c552",
   "metadata": {},
   "outputs": [],
   "source": [
    "# Separate features and labels\n",
    "X_train = train_df.drop(columns=['CLASS']).replace([np.inf, -np.inf], np.nan)\n",
    "X_train = X_train.clip(lower=1e-6, upper=1e6)\n",
    "y_train = train_df['CLASS']\n",
    "\n",
    "X_test = test_df.drop(columns=['CLASS']).replace([np.inf, -np.inf], np.nan)\n",
    "X_test = X_test.clip(lower = 1e-6, upper=1e6)\n",
    "y_test = test_df['CLASS']\n",
    "\n",
    "X_blind = blind_df.replace([np.inf, -np.inf], np.nan)\n",
    "X_blind = X_blind.clip(lower= 1e-6, upper=1e6)"
   ]
  },
  {
   "cell_type": "code",
   "execution_count": 78,
   "id": "63ad38f8",
   "metadata": {},
   "outputs": [],
   "source": [
    "# Aligning columns across test and blind sets\n",
    "common_cols = X_train.columns.intersection(X_test.columns).intersection(blind_df.columns)\n",
    "X_train = X_train[common_cols]\n",
    "X_test = X_test[common_cols]\n",
    "X_blind = blind_df[common_cols]"
   ]
  },
  {
   "cell_type": "code",
   "execution_count": 79,
   "id": "980ee9bc",
   "metadata": {},
   "outputs": [
    {
     "data": {
      "image/png": "[encoded data removed]",
      "text/plain": [
       "<Figure size 432x288 with 1 Axes>"
      ]
     },
     "metadata": {
      "needs_background": "light"
     },
     "output_type": "display_data"
    }
   ],
   "source": [
    "X_debug = SimpleImputer(strategy='median').fit_transform(X_train)\n",
    "pca_temp = PCA().fit(X_debug)\n",
    "plt.plot(np.cumsum(pca_temp.explained_variance_ratio_))\n",
    "plt.xlabel('Number of Components')\n",
    "plt.ylabel('Cumulative Explained Variance')\n",
    "plt.grid(True)\n",
    "plt.show()\n"
   ]
  },
  {
   "cell_type": "code",
   "execution_count": 80,
   "id": "2cebb11f",
   "metadata": {},
   "outputs": [
    {
     "name": "stdout",
     "output_type": "stream",
     "text": [
      "Fitting 5 folds for each of 30 candidates, totalling 150 fits\n",
      "Best Parameters: {'clf__C': 0.01, 'clf__solver': 'lbfgs', 'pca__n_components': 30}\n"
     ]
    }
   ],
   "source": [
    "# Build pipeline\n",
    "log_reg_pipeline = Pipeline([\n",
    "    ('imputer', SimpleImputer(strategy='median')),\n",
    "    ('scaler', MinMaxScaler()),\n",
    "    ('pca', PCA()),\n",
    "    ('clf', LogisticRegression(class_weight='balanced', max_iter=1000))\n",
    "])\n",
    "\n",
    "log_reg_params = {\n",
    "    'pca__n_components': [20, 30, 40 ],\n",
    "    'clf__C': [0.01, 0.1, 1, 10, 100],\n",
    "    'clf__solver': ['liblinear', 'lbfgs']\n",
    "}\n",
    "\n",
    "log_grid = GridSearchCV(log_reg_pipeline, log_reg_params, scoring='roc_auc', cv=5 ,n_jobs=-1,verbose=1)\n",
    "\n",
    "log_grid.fit(X_train, y_train)\n",
    "\n",
    "# --- Evaluate Logistic Regression ---\n",
    "log_best = log_grid.best_estimator_\n",
    "log_pred = log_best.predict(X_test)\n",
    "log_proba = log_best.predict_proba(X_test)[:, 1]\n",
    "print(\"Best Parameters:\", log_grid.best_params_)"
   ]
  },
  {
   "cell_type": "code",
   "execution_count": 81,
   "id": "ff825c07",
   "metadata": {},
   "outputs": [
    {
     "name": "stdout",
     "output_type": "stream",
     "text": [
      "Accuracy: 0.6100\n",
      "AUROC: 0.6782\n",
      "Sensitivity (Recall): 0.5238\n",
      "Specificity: 0.6724\n",
      "F1 Score: 0.5301\n"
     ]
    }
   ],
   "source": [
    "# Metrics\n",
    "acc = accuracy_score(y_test, log_pred)\n",
    "auroc = roc_auc_score(y_test, log_proba)\n",
    "recall = recall_score(y_test, log_pred)\n",
    "f1 = f1_score(y_test, log_pred)\n",
    "tn, fp, fn, tp = confusion_matrix(y_test, log_pred).ravel()\n",
    "specificity = tn / (tn + fp)\n",
    "\n",
    "print(f\"Accuracy: {acc:.4f}\")\n",
    "print(f\"AUROC: {auroc:.4f}\")\n",
    "print(f\"Sensitivity (Recall): {recall:.4f}\")\n",
    "print(f\"Specificity: {specificity:.4f}\")\n",
    "print(f\"F1 Score: {f1:.4f}\")"
   ]
  },
  {
   "cell_type": "code",
   "execution_count": 120,
   "id": "6577c173",
   "metadata": {},
   "outputs": [],
   "source": [
    "# Predict probabilities for blinded test set\n",
    "blind_proba = log_best.predict_proba(X_blind)\n",
    "proba_df = pd.DataFrame(blind_proba, columns=['prob_class_0', 'prob_class_1'])\n",
    "proba_df[['prob_class_0', 'prob_class_1']] = proba_df[['prob_class_0', 'prob_class_1']].clip(lower=1e-5, upper=1 - 1e-5)\n",
    "proba_df['ID'] = blind_df.index\n",
    "proba_df = proba_df[['ID', 'prob_class_0', 'prob_class_1']]\n",
    "output_file = os.path.join(output_dir, 'Predictions_using_LogisticRegression.csv')\n",
    "proba_df.to_csv(output_file, index=False)"
   ]
  },
  {
   "cell_type": "code",
   "execution_count": 85,
   "id": "4faa4b42",
   "metadata": {},
   "outputs": [
    {
     "name": "stdout",
     "output_type": "stream",
     "text": [
      "Best Params: {'clf__max_depth': 20, 'clf__min_samples_leaf': 2, 'clf__min_samples_split': 5, 'clf__n_estimators': 200, 'pca__n_components': 30}\n"
     ]
    }
   ],
   "source": [
    "rf_pipeline = Pipeline([\n",
    "    ('imputer', SimpleImputer(strategy='median')),\n",
    "    ('pca', PCA()),\n",
    "    ('clf', RandomForestClassifier(class_weight='balanced', random_state=42))\n",
    "])\n",
    "\n",
    "rf_params = {\n",
    "    'pca__n_components': [20, 30, 40, 50],\n",
    "    'clf__n_estimators': [100, 200],\n",
    "    'clf__max_depth': [None, 10, 20],\n",
    "    'clf__min_samples_split': [2, 5],\n",
    "    'clf__min_samples_leaf': [1, 2],\n",
    "}\n",
    "\n",
    "rf_grid = GridSearchCV(rf_pipeline, rf_params, scoring='roc_auc', cv=5, n_jobs=-1)\n",
    "rf_grid.fit(X_train, y_train)\n",
    "\n",
    "# --- Evaluate Random Forest ---\n",
    "rf_best = rf_grid.best_estimator_\n",
    "rf_pred = rf_best.predict(X_test)\n",
    "rf_proba = rf_best.predict_proba(X_test)[:, 1]\n",
    "print(\"Best Params:\", rf_grid.best_params_)"
   ]
  },
  {
   "cell_type": "code",
   "execution_count": 86,
   "id": "9f6c10e6",
   "metadata": {},
   "outputs": [
    {
     "name": "stdout",
     "output_type": "stream",
     "text": [
      "Accuracy: 0.6700\n",
      "AUROC: 0.6962\n",
      "Sensitivity (Recall): 0.4762\n",
      "Specificity: 0.8103\n",
      "F1 Score: 0.5479\n",
      "Confusion matrix:\n",
      " [[47 11]\n",
      " [22 20]]\n"
     ]
    }
   ],
   "source": [
    "# Metrics\n",
    "acc = accuracy_score(y_test, rf_pred)\n",
    "auroc = roc_auc_score(y_test, rf_proba)\n",
    "recall = recall_score(y_test, rf_pred)\n",
    "f1 = f1_score(y_test, rf_pred)\n",
    "tn, fp, fn, tp = confusion_matrix(y_test, rf_pred).ravel()\n",
    "specificity = tn / (tn + fp)\n",
    "\n",
    "print(f\"Accuracy: {acc:.4f}\")\n",
    "print(f\"AUROC: {auroc:.4f}\")\n",
    "print(f\"Sensitivity (Recall): {recall:.4f}\")\n",
    "print(f\"Specificity: {specificity:.4f}\")\n",
    "print(f\"F1 Score: {f1:.4f}\")\n",
    "print(\"Confusion matrix:\\n\", confusion_matrix(y_test, rf_pred))"
   ]
  },
  {
   "cell_type": "code",
   "execution_count": 113,
   "id": "97dc2774",
   "metadata": {},
   "outputs": [],
   "source": [
    "blind_proba = rf_best.predict_proba(X_blind)\n",
    "proba_df = pd.DataFrame(blind_proba, columns=['prob_class_0', 'prob_class_1'])\n",
    "proba_df['ID'] = blind_df.index\n",
    "proba_df = proba_df[['ID', 'prob_class_0', 'prob_class_1']]\n",
    "output_file = os.path.join(output_dir, 'Predictions_using_RandomForest.csv')\n",
    "proba_df.to_csv(output_file, index=False)"
   ]
  },
  {
   "cell_type": "code",
   "execution_count": 90,
   "id": "7eec7f7d",
   "metadata": {},
   "outputs": [
    {
     "name": "stdout",
     "output_type": "stream",
     "text": [
      "Best Params: {'classifier__learning_rate': 0.05, 'classifier__max_depth': 5, 'classifier__n_estimators': 50, 'classifier__subsample': 1.0}\n"
     ]
    }
   ],
   "source": [
    "# Define pipeline\n",
    "xg_pipeline = Pipeline([\n",
    "    (\"imputer\", SimpleImputer(strategy=\"median\")),\n",
    "    (\"scaler\", MinMaxScaler()),\n",
    "    (\"classifier\", XGBClassifier(eval_metric=\"logloss\", random_state=42))\n",
    "])\n",
    "\n",
    "xg_param_grid = {\n",
    "    \"classifier__n_estimators\": [50, 100],\n",
    "    \"classifier__max_depth\": [3, 5],\n",
    "    \"classifier__learning_rate\": [0.05, 0.1],\n",
    "    \"classifier__subsample\": [0.8, 1.0],\n",
    "}\n",
    "\n",
    "xg_grid = GridSearchCV(xg_pipeline, xg_param_grid, scoring=\"roc_auc\", cv=5, n_jobs=-1)\n",
    "xg_grid.fit(X_train, y_train)\n",
    "\n",
    "# --- Evaluate Random Forest ---\n",
    "xg_best = xg_grid.best_estimator_\n",
    "xg_pred = xg_best.predict(X_test)\n",
    "xg_proba = xg_best.predict_proba(X_test)[:, 1]\n",
    "print(\"Best Params:\", xg_grid.best_params_)"
   ]
  },
  {
   "cell_type": "code",
   "execution_count": 91,
   "id": "095eb4c8",
   "metadata": {},
   "outputs": [
    {
     "name": "stdout",
     "output_type": "stream",
     "text": [
      "Accuracy: 0.6200\n",
      "AUROC: 0.6412\n",
      "Sensitivity (Recall): 0.3095\n",
      "Specificity: 0.8448\n",
      "F1 Score: 0.4062\n",
      "Confusion matrix:\n",
      " [[49  9]\n",
      " [29 13]]\n"
     ]
    }
   ],
   "source": [
    "# Metrics\n",
    "acc = accuracy_score(y_test, xg_pred)\n",
    "auroc = roc_auc_score(y_test, xg_proba)\n",
    "recall = recall_score(y_test, xg_pred)\n",
    "f1 = f1_score(y_test, xg_pred)\n",
    "tn, fp, fn, tp = confusion_matrix(y_test, xg_pred).ravel()\n",
    "specificity = tn / (tn + fp)\n",
    "\n",
    "print(f\"Accuracy: {acc:.4f}\")\n",
    "print(f\"AUROC: {auroc:.4f}\")\n",
    "print(f\"Sensitivity (Recall): {recall:.4f}\")\n",
    "print(f\"Specificity: {specificity:.4f}\")\n",
    "print(f\"F1 Score: {f1:.4f}\")\n",
    "print(\"Confusion matrix:\\n\", confusion_matrix(y_test, xg_pred))"
   ]
  },
  {
   "cell_type": "code",
   "execution_count": 112,
   "id": "231f9c7d",
   "metadata": {},
   "outputs": [],
   "source": [
    "blind_proba = xg_best.predict_proba(X_blind)\n",
    "proba_df = pd.DataFrame(blind_proba, columns=['prob_class_0', 'prob_class_1'])\n",
    "proba_df['ID'] = blind_df.index\n",
    "proba_df = proba_df[['ID', 'prob_class_0', 'prob_class_1']]\n",
    "output_file = os.path.join(output_dir, 'Predictions_using_XGBoost.csv')\n",
    "proba_df.to_csv(output_file, index=False)"
   ]
  },
  {
   "cell_type": "code",
   "execution_count": 93,
   "id": "d90b8642",
   "metadata": {},
   "outputs": [
    {
     "name": "stdout",
     "output_type": "stream",
     "text": [
      "Best parameters: {'svm__C': 1, 'svm__gamma': 'auto', 'svm__kernel': 'rbf'}\n"
     ]
    }
   ],
   "source": [
    "svm_pipeline = Pipeline([\n",
    "    ('imputer', SimpleImputer(strategy='median')),\n",
    "    ('scaler', MinMaxScaler()),\n",
    "    ('svm', SVC(probability=True, class_weight='balanced'))\n",
    "])\n",
    "\n",
    "# Hyperparameter tuning\n",
    "svm_param_grid = {\n",
    "    'svm__C': [0.1, 1, 10],\n",
    "    'svm__kernel': ['linear', 'rbf'],\n",
    "    'svm__gamma': ['scale', 'auto']\n",
    "}\n",
    "\n",
    "svm_grid= GridSearchCV(svm_pipeline, svm_param_grid, cv=5, scoring='roc_auc', n_jobs=-1)\n",
    "svm_grid.fit(X_train, y_train)\n",
    "\n",
    "# Predict and evaluate\n",
    "best_model = svm_grid.best_estimator_\n",
    "svm_pred = best_model.predict(X_test)\n",
    "svm_proba = best_model.predict_proba(X_test)[:, 1]\n",
    "print(\"Best parameters:\", svm_grid.best_params_)"
   ]
  },
  {
   "cell_type": "code",
   "execution_count": 94,
   "id": "e3fdbbe7",
   "metadata": {},
   "outputs": [
    {
     "name": "stdout",
     "output_type": "stream",
     "text": [
      "Accuracy: 0.6200\n",
      "AUROC: 0.6601\n",
      "Sensitivity (Recall): 0.5238\n",
      "Specificity: 0.6897\n",
      "F1 Score: 0.5366\n",
      "Confusion matrix:\n",
      " [[40 18]\n",
      " [20 22]]\n"
     ]
    }
   ],
   "source": [
    "# Metrics\n",
    "acc = accuracy_score(y_test, svm_pred)\n",
    "auroc = roc_auc_score(y_test, svm_proba)\n",
    "recall = recall_score(y_test, svm_pred)\n",
    "f1 = f1_score(y_test, svm_pred)\n",
    "tn, fp, fn, tp = confusion_matrix(y_test, svm_pred).ravel()\n",
    "specificity = tn / (tn + fp)\n",
    "\n",
    "print(f\"Accuracy: {acc:.4f}\")\n",
    "print(f\"AUROC: {auroc:.4f}\")\n",
    "print(f\"Sensitivity (Recall): {recall:.4f}\")\n",
    "print(f\"Specificity: {specificity:.4f}\")\n",
    "print(f\"F1 Score: {f1:.4f}\")\n",
    "print(\"Confusion matrix:\\n\", confusion_matrix(y_test, svm_pred))"
   ]
  },
  {
   "cell_type": "code",
   "execution_count": 95,
   "id": "1cf5368b",
   "metadata": {},
   "outputs": [
    {
     "data": {
      "text/html": [
       "<div>\n",
       "<style scoped>\n",
       "    .dataframe tbody tr th:only-of-type {\n",
       "        vertical-align: middle;\n",
       "    }\n",
       "\n",
       "    .dataframe tbody tr th {\n",
       "        vertical-align: top;\n",
       "    }\n",
       "\n",
       "    .dataframe thead th {\n",
       "        text-align: right;\n",
       "    }\n",
       "</style>\n",
       "<table border=\"1\" class=\"dataframe\">\n",
       "  <thead>\n",
       "    <tr style=\"text-align: right;\">\n",
       "      <th></th>\n",
       "      <th>prob_class_0</th>\n",
       "      <th>prob_class_1</th>\n",
       "    </tr>\n",
       "  </thead>\n",
       "  <tbody>\n",
       "    <tr>\n",
       "      <th>0</th>\n",
       "      <td>0.599771</td>\n",
       "      <td>0.400229</td>\n",
       "    </tr>\n",
       "    <tr>\n",
       "      <th>1</th>\n",
       "      <td>0.599771</td>\n",
       "      <td>0.400229</td>\n",
       "    </tr>\n",
       "    <tr>\n",
       "      <th>2</th>\n",
       "      <td>0.599771</td>\n",
       "      <td>0.400229</td>\n",
       "    </tr>\n",
       "    <tr>\n",
       "      <th>3</th>\n",
       "      <td>0.599771</td>\n",
       "      <td>0.400229</td>\n",
       "    </tr>\n",
       "    <tr>\n",
       "      <th>4</th>\n",
       "      <td>0.599771</td>\n",
       "      <td>0.400229</td>\n",
       "    </tr>\n",
       "  </tbody>\n",
       "</table>\n",
       "</div>"
      ],
      "text/plain": [
       "   prob_class_0  prob_class_1\n",
       "0      0.599771      0.400229\n",
       "1      0.599771      0.400229\n",
       "2      0.599771      0.400229\n",
       "3      0.599771      0.400229\n",
       "4      0.599771      0.400229"
      ]
     },
     "execution_count": 95,
     "metadata": {},
     "output_type": "execute_result"
    }
   ],
   "source": [
    "blind_proba = best_model.predict_proba(X_blind)\n",
    "proba_df = pd.DataFrame(blind_proba, columns=['prob_class_0', 'prob_class_1'])\n",
    "proba_df.head()"
   ]
  },
  {
   "cell_type": "code",
   "execution_count": null,
   "id": "183b72eb",
   "metadata": {},
   "outputs": [],
   "source": [
    "\n",
    "\n",
    "\n",
    "\n",
    "\n"
   ]
  }
 ],
 "metadata": {
  "kernelspec": {
   "display_name": "Python 3 (ipykernel)",
   "language": "python",
   "name": "python3"
  },
  "language_info": {
   "codemirror_mode": {
    "name": "ipython",
    "version": 3
   },
   "file_extension": ".py",
   "mimetype": "text/x-python",
   "name": "python",
   "nbconvert_exporter": "python",
   "pygments_lexer": "ipython3",
   "version": "3.9.7"
  },
  "varInspector": {
   "cols": {
    "lenName": 16,
    "lenType": 16,
    "lenVar": 40
   },
   "kernels_config": {
    "python": {
     "delete_cmd_postfix": "",
     "delete_cmd_prefix": "del ",
     "library": "var_list.py",
     "varRefreshCmd": "print(var_dic_list())"
    },
    "r": {
     "delete_cmd_postfix": ") ",
     "delete_cmd_prefix": "rm(",
     "library": "var_list.r",
     "varRefreshCmd": "cat(var_dic_list()) "
    }
   },
   "types_to_exclude": [
    "module",
    "function",
    "builtin_function_or_method",
    "instance",
    "_Feature"
   ],
   "window_display": false
  }
 },
 "nbformat": 4,
 "nbformat_minor": 5
}
